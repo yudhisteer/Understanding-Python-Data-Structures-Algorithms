{
 "cells": [
  {
   "cell_type": "markdown",
   "metadata": {},
   "source": [
    "## Pointers"
   ]
  },
  {
   "cell_type": "markdown",
   "metadata": {},
   "source": [
    "### Integers are immutable"
   ]
  },
  {
   "cell_type": "code",
   "execution_count": 1,
   "metadata": {},
   "outputs": [
    {
     "name": "stdout",
     "output_type": "stream",
     "text": [
      "num1:  10\n",
      "num2:  10\n",
      "Address of num1:  102960070073416\n",
      "Address of num2:  102960070073416\n"
     ]
    }
   ],
   "source": [
    "# In Python, variables are references to objects in memory. \n",
    "# When you assign one variable to another (e.g., num2 = num1), \n",
    "# both variables point to the same object in memory. This is why num1 and num2 \n",
    "# have the SAME memory address - they're both referencing the exact same integer \n",
    "# object. The id() function shows us the memory address of the objects they reference.\n",
    "\n",
    "num1 = 10\n",
    "num2 = num1\n",
    "\n",
    "print(\"num1: \", num1)\n",
    "print(\"num2: \", num2)\n",
    "\n",
    "print(\"Address of num1: \", id(num1))\n",
    "print(\"Address of num2: \", id(num2))"
   ]
  },
  {
   "cell_type": "code",
   "execution_count": 2,
   "metadata": {},
   "outputs": [
    {
     "name": "stdout",
     "output_type": "stream",
     "text": [
      "num1:  10\n",
      "num2:  20\n",
      "Address of num1:  102960070073416\n",
      "Address of num2:  102960070073736\n"
     ]
    }
   ],
   "source": [
    "# In Python, variables are references to objects in memory, and integers are immutable.\n",
    "# When we assign different values to variables (like 10 and 20), Python creates separate\n",
    "# objects in memory for each unique value. This is why num1 and num2 have different\n",
    "# memory addresses - they point to different integer objects. Each distinct value\n",
    "# gets its own memory location, demonstrating that variables are just references\n",
    "# pointing to objects stored somewhere in memory.\n",
    "\n",
    "num1 = 10\n",
    "num2 = 20\n",
    "\n",
    "print(\"num1: \", num1)\n",
    "print(\"num2: \", num2)\n",
    "\n",
    "print(\"Address of num1: \", id(num1))\n",
    "print(\"Address of num2: \", id(num2))"
   ]
  },
  {
   "cell_type": "code",
   "execution_count": 3,
   "metadata": {},
   "outputs": [
    {
     "name": "stdout",
     "output_type": "stream",
     "text": [
      "num1:  10\n",
      "num2:  10\n",
      "Address of num1:  102960070073416\n",
      "Address of num2:  102960070073416\n"
     ]
    }
   ],
   "source": [
    "# This demonstrates Python's integer caching optimization. When we assign the same \n",
    "# value (10) to different variables separately, Python is smart enough to reuse \n",
    "# the existing integer object in memory rather than creating a new one. This is \n",
    "# why num1 and num2 have the SAME memory address even though they were assigned \n",
    "# independently. Python caches small integers (-5 to 256) for efficiency, so \n",
    "# multiple variables with the same small integer value will reference the same object.\n",
    "\n",
    "num1 = 10\n",
    "num2 = 10\n",
    "\n",
    "print(\"num1: \", num1)\n",
    "print(\"num2: \", num2)\n",
    "\n",
    "print(\"Address of num1: \", id(num1))\n",
    "print(\"Address of num2: \", id(num2))"
   ]
  },
  {
   "cell_type": "markdown",
   "metadata": {},
   "source": [
    "### Dictionaries are mutable"
   ]
  },
  {
   "cell_type": "code",
   "execution_count": 6,
   "metadata": {},
   "outputs": [
    {
     "name": "stdout",
     "output_type": "stream",
     "text": [
      "dict1:  {'value': 10}\n",
      "dict2:  {'value': 10}\n",
      "Address of dict1:  139128756299200\n",
      "Address of dict2:  139128756299200\n",
      "--------------------------------\n",
      "After changing the value of dict1\n",
      "dict1:  {'value': 20}\n",
      "dict2:  {'value': 20}\n",
      "Address of dict1:  139128756299200\n",
      "Address of dict2:  139128756299200\n"
     ]
    }
   ],
   "source": [
    "# This demonstrates the difference between mutable and immutable objects in Python.\n",
    "# Unlike integers, dictionaries are MUTABLE, meaning their contents can be changed.\n",
    "# When we assign dict2 = dict1, both variables point to the SAME dictionary object\n",
    "# in memory. When we modify the dictionary through dict2, we're actually modifying\n",
    "# the original object that both variables reference. This is why both dict1 and dict2\n",
    "# show the change, and they maintain the SAME memory address - because there's only\n",
    "# one dictionary object, just referenced by two different variable names.\n",
    "\n",
    "dict1 = {\"value\": 10}\n",
    "dict2 = dict1\n",
    "\n",
    "print(\"dict1: \", dict1)\n",
    "print(\"dict2: \", dict2)\n",
    "\n",
    "print(\"Address of dict1: \", id(dict1))\n",
    "print(\"Address of dict2: \", id(dict2))\n",
    "\n",
    "print(\"--------------------------------\")\n",
    "print(\"After changing the value of dict1\")\n",
    "dict2[\"value\"] = 20\n",
    "\n",
    "print(\"dict1: \", dict1)\n",
    "print(\"dict2: \", dict2)\n",
    "\n",
    "print(\"Address of dict1: \", id(dict1))\n",
    "print(\"Address of dict2: \", id(dict2))"
   ]
  },
  {
   "cell_type": "markdown",
   "metadata": {},
   "source": [
    "### Garbage Collection"
   ]
  },
  {
   "cell_type": "code",
   "execution_count": 7,
   "metadata": {},
   "outputs": [
    {
     "name": "stdout",
     "output_type": "stream",
     "text": [
      "dict1:  {'value': 30}\n",
      "dict2:  {'value': 30}\n",
      "dict3:  {'value': 30}\n",
      "Address of dict1:  139128756293504\n",
      "Address of dict2:  139128756293504\n",
      "Address of dict3:  139128756293504\n"
     ]
    }
   ],
   "source": [
    "# This demonstrates what happens when we reassign variables to point to different objects.\n",
    "# Initially, dict1 points to {\"value\": 10} and dict3 points to {\"value\": 30}.\n",
    "# When we do dict2 = dict3 and dict1 = dict2, we're making all three variables\n",
    "# point to the SAME object (the one that dict3 originally referenced).\n",
    "# The original {\"value\": 10} dictionary becomes unreferenced and will be garbage\n",
    "# collected by Python since no variable points to it anymore. All three variables\n",
    "# now reference the same {\"value\": 30} object, hence the same memory address.\n",
    "\n",
    "dict1 = {\"value\": 10}\n",
    "dict3 = {\"value\": 30}\n",
    "dict2 = dict3\n",
    "dict1 = dict2\n",
    "\n",
    "print(\"dict1: \", dict1)\n",
    "print(\"dict2: \", dict2)\n",
    "print(\"dict3: \", dict3)\n",
    "\n",
    "print(\"Address of dict1: \", id(dict1))\n",
    "print(\"Address of dict2: \", id(dict2))\n",
    "print(\"Address of dict3: \", id(dict3))\n",
    "\n",
    "\n"
   ]
  },
  {
   "cell_type": "code",
   "execution_count": null,
   "metadata": {},
   "outputs": [],
   "source": []
  }
 ],
 "metadata": {
  "kernelspec": {
   "display_name": ".venv",
   "language": "python",
   "name": "python3"
  },
  "language_info": {
   "codemirror_mode": {
    "name": "ipython",
    "version": 3
   },
   "file_extension": ".py",
   "mimetype": "text/x-python",
   "name": "python",
   "nbconvert_exporter": "python",
   "pygments_lexer": "ipython3",
   "version": "3.12.0"
  }
 },
 "nbformat": 4,
 "nbformat_minor": 2
}
